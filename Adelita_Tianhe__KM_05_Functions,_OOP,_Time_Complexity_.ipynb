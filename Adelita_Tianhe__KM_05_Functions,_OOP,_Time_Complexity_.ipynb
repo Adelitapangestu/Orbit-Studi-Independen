{
  "nbformat": 4,
  "nbformat_minor": 0,
  "metadata": {
    "colab": {
      "name": "Adelita_Tianhe _KM-05: Functions, OOP, Time Complexity .ipynb",
      "provenance": [],
      "collapsed_sections": []
    },
    "kernelspec": {
      "name": "python3",
      "display_name": "Python 3"
    },
    "language_info": {
      "name": "python"
    }
  },
  "cells": [
    {
      "cell_type": "markdown",
      "metadata": {
        "id": "kER0kaBTbJHu"
      },
      "source": [
        "#**ADELITA PANGESTU ALLFINNI SRINA**\n",
        "##Minggu ke-5 (Kamis, 23 September 2021)"
      ]
    },
    {
      "cell_type": "markdown",
      "metadata": {
        "id": "Le8N3SLcbiAd"
      },
      "source": [
        "# **Fungsi**"
      ]
    },
    {
      "cell_type": "code",
      "metadata": {
        "colab": {
          "base_uri": "https://localhost:8080/"
        },
        "id": "GIL6_Gwzbgru",
        "outputId": "22593715-bc1d-44d6-c6f5-85d03be6b518"
      },
      "source": [
        "#Contoh Deklarasi Fungsi\n",
        "def cetak(x):\n",
        "  print(x)\n",
        "\n",
        "#Memanggil Fungsi\n",
        "cetak(\"siap boss\")"
      ],
      "execution_count": null,
      "outputs": [
        {
          "output_type": "stream",
          "name": "stdout",
          "text": [
            "siap boss\n"
          ]
        }
      ]
    },
    {
      "cell_type": "code",
      "metadata": {
        "colab": {
          "base_uri": "https://localhost:8080/"
        },
        "id": "RwdpbWXYbyIN",
        "outputId": "86021e9e-1384-4b4e-b410-7c9610febc32"
      },
      "source": [
        "#Contoh Deklarasi Fungsi dengan Pengembalian\n",
        "def tambah(k, l):\n",
        "  return k + l;\n",
        "\n",
        "#Memanggil Fungsi\n",
        "print(tambah(4, 5))"
      ],
      "execution_count": null,
      "outputs": [
        {
          "output_type": "stream",
          "name": "stdout",
          "text": [
            "9\n"
          ]
        }
      ]
    },
    {
      "cell_type": "markdown",
      "metadata": {
        "id": "SLOP8yGkbpLO"
      },
      "source": [
        "# **Method**"
      ]
    },
    {
      "cell_type": "code",
      "metadata": {
        "colab": {
          "base_uri": "https://localhost:8080/"
        },
        "id": "_xvVcsqhcxor",
        "outputId": "66673677-5118-40fd-a238-e0ee402f46d3"
      },
      "source": [
        "#Contoh Deklarasi Object (Class)\n",
        "class Sapi(object):\n",
        "  def moo(self):\n",
        "    print(\"moooooo\")\n",
        "\n",
        "#Memanggil Method\n",
        "cow = Sapi()\n",
        "cow.moo()"
      ],
      "execution_count": null,
      "outputs": [
        {
          "output_type": "stream",
          "name": "stdout",
          "text": [
            "moooooo\n"
          ]
        }
      ]
    },
    {
      "cell_type": "markdown",
      "metadata": {
        "id": "3WbfqdEWbtsl"
      },
      "source": [
        "# **Lambda Expression**"
      ]
    },
    {
      "cell_type": "code",
      "metadata": {
        "colab": {
          "base_uri": "https://localhost:8080/"
        },
        "id": "oZzs5KrUcZdq",
        "outputId": "83af79d7-87a2-468c-d0cd-57cb19ec1335"
      },
      "source": [
        "#Contoh Lambda Expression\n",
        "tambah = lambda k, l: (k + l)\n",
        "print(tambah(4, 5))"
      ],
      "execution_count": null,
      "outputs": [
        {
          "output_type": "stream",
          "name": "stdout",
          "text": [
            "9\n"
          ]
        }
      ]
    },
    {
      "cell_type": "markdown",
      "metadata": {
        "id": "jxicmjLxkXCa"
      },
      "source": [
        "# **Object Oriented Programming**"
      ]
    },
    {
      "cell_type": "markdown",
      "metadata": {
        "id": "K_u-Dtb6kcBm"
      },
      "source": [
        "## **Encapsulation**"
      ]
    },
    {
      "cell_type": "code",
      "metadata": {
        "colab": {
          "base_uri": "https://localhost:8080/"
        },
        "id": "1Rbf4gD3qFCw",
        "outputId": "fd0135eb-bdbb-44fc-8ba9-769f81162845"
      },
      "source": [
        "class Sapi:\n",
        "  def __init__(self, nama, usia, jenis_kelamin, warna, jenis):\n",
        "    self.nama = nama\n",
        "    self.usia = usia\n",
        "    self.jenis_kelamin = jenis_kelamin\n",
        "    self.warna = warna\n",
        "    self.jenis = jenis\n",
        "\n",
        "  def myfunc(self):\n",
        "    print(\"Hello my name is \" + self.nama)\n",
        "  \n",
        "  def moo(self):\n",
        "    print(\"mhooooooo... \")\n",
        "\n",
        "  def info(self):\n",
        "    print(f\"nama: {self.nama}, usia: {self.usia}, jenis kelamin: {self.jenis_kelamin}, warna: {self.warna}, jenis: {self.jenis}\")\n",
        "\n",
        "\n",
        "sapi1 = Sapi(\"abang\", 1, \"jantan\", \"coklat muda\", \"limosin\")\n",
        "\n",
        "sapi1.info()"
      ],
      "execution_count": null,
      "outputs": [
        {
          "output_type": "stream",
          "name": "stdout",
          "text": [
            "nama: abang, usia: 1, jenis kelamin: jantan, warna: coklat muda, jenis: limosin\n"
          ]
        }
      ]
    },
    {
      "cell_type": "markdown",
      "metadata": {
        "id": "Xpt9Lz6vqN-z"
      },
      "source": [
        "## **Abstraction**"
      ]
    },
    {
      "cell_type": "code",
      "metadata": {
        "colab": {
          "base_uri": "https://localhost:8080/"
        },
        "id": "FhdKTKSSrHCP",
        "outputId": "c27e8ca5-6298-40ae-f3cb-f62f82383d1d"
      },
      "source": [
        "#Contoh Memanggil method dari objek tanpa harus mengetahui cara kerja method\n",
        "sapi1.myfunc()"
      ],
      "execution_count": null,
      "outputs": [
        {
          "output_type": "stream",
          "name": "stdout",
          "text": [
            "Hello my name is abang\n"
          ]
        }
      ]
    },
    {
      "cell_type": "markdown",
      "metadata": {
        "id": "wBoEkCxewdrg"
      },
      "source": [
        "## **Inheritence**"
      ]
    },
    {
      "cell_type": "code",
      "metadata": {
        "colab": {
          "base_uri": "https://localhost:8080/"
        },
        "id": "CuyLOHKnpXjQ",
        "outputId": "3f951cce-82ce-490f-d8e8-ca5704c6afcc"
      },
      "source": [
        "class Binatang(object):\n",
        "  def __init__(self, nama, usia, jenis, mamalia):\n",
        "    self.nama = nama\n",
        "    self.usia = usia\n",
        "    self.jenis = jenis\n",
        "    self.mamalia = mamalia\n",
        "\n",
        "  def tidur(self, durasi):\n",
        "    for x in range(durasi):\n",
        "      print(\"ddrrr... ddrrr... \")\n",
        "\n",
        "  def info(self):\n",
        "    print(f\"nama: {self.nama}, usia: {self.usia}, jenis: {self.jenis}, mamalia: {self.mamalia}\")\n",
        "\n",
        "\n",
        "animal1 = Binatang(\"cemong\", 1, \"omnivora\", True)\n",
        "\n",
        "animal1.info()\n",
        "\n",
        "\n",
        "class Sapi(Binatang):\n",
        "  def __init__(self,  nama, usia, jenis_kelamin, mamalia, warna, jenis_sapi):\n",
        "    super().__init__(nama, usia, jenis_kelamin, mamalia)\n",
        "    self.warna = warna\n",
        "    self.jenis_sapi = jenis_sapi\n",
        "  \n",
        "  def moo(self):\n",
        "    print(\"mhoooooo....\")\n",
        "\n",
        "  def info_sapi(self):\n",
        "    print(f\"warna: {self.warna}, jenis sapi: {self.jenis_sapi}\")\n",
        "\n",
        "cow1 = Sapi(\"mipan\", 1.5, \"betina\", True, \"putih hitam\", \"perah\")\n",
        "\n",
        "cow1.info()\n",
        "cow1.info_sapi()"
      ],
      "execution_count": null,
      "outputs": [
        {
          "output_type": "stream",
          "name": "stdout",
          "text": [
            "nama: cemong, usia: 1, jenis: omnivora, mamalia: True\n",
            "nama: mipan, usia: 1.5, jenis: betina, mamalia: True\n",
            "warna: putih hitam, jenis sapi: perah\n"
          ]
        }
      ]
    },
    {
      "cell_type": "markdown",
      "metadata": {
        "id": "lLLHjBNp1HDe"
      },
      "source": [
        "## **Polymorphism**"
      ]
    },
    {
      "cell_type": "code",
      "metadata": {
        "colab": {
          "base_uri": "https://localhost:8080/"
        },
        "id": "wQG6GB88tObs",
        "outputId": "1f0a3757-8dd7-4916-d183-21b3c7bbe1d4"
      },
      "source": [
        "class Tumbuhan(object):\n",
        "  def __init__(self, nama, usia, jenis_tumbuhan):\n",
        "    self.nama = nama\n",
        "    self.usia = usia\n",
        "    self.jenis_tumbuhan = jenis_tumbuhan\n",
        "\n",
        "  def tidur(self, durasi):\n",
        "    for x in range(durasi):\n",
        "      print(\"bbrrrr... bbrrrr... \")\n",
        "\n",
        "  def info(self):\n",
        "    print(f\"nama: {self.nama}, usia: {self.usia}, jenis: {self.jenis_tumbuhan}\")\n",
        "\n",
        "\n",
        "plant1 = Tumbuhan(\"Atang\", 3.5, \"Umbi-umbian\")\n",
        "\n",
        "plant1.info()\n",
        "\n",
        "class Kentang(Tumbuhan):\n",
        "  def __init__(self,  nama, usia, warna, jenis_sayuran, jenis_tumbuhan):\n",
        "    super().__init__(nama, usia, jenis_tumbuhan)\n",
        "    self.warna = warna\n",
        "    self.jenis_sayuran = jenis_sayuran\n",
        "\n",
        "  def tumbuh(self, durasi):\n",
        "    for x in range(durasi):\n",
        "      print(\"hallo... aku adalah kentang yang sehat... \")\n",
        "\n",
        "  def info_kentang(self):\n",
        "    print(f\"warna: {self.warna}, jenis kentang: {self.jenis_sayuran}\")\n",
        "\n",
        "potato1 = Kentang(\"Atang\", 3.5 , \"cokelat muda terang\", \"Russet\", \"Umbi-umbian\")\n",
        "\n",
        "potato1.tidur(3)\n",
        "print()\n",
        "potato1.info()\n",
        "potato1.info_kentang()\n",
        "potato1.tumbuh(2)"
      ],
      "execution_count": null,
      "outputs": [
        {
          "output_type": "stream",
          "name": "stdout",
          "text": [
            "nama: Atang, usia: 3.5, jenis: Umbi-umbian\n",
            "bbrrrr... bbrrrr... \n",
            "bbrrrr... bbrrrr... \n",
            "bbrrrr... bbrrrr... \n",
            "\n",
            "nama: Atang, usia: 3.5, jenis: Umbi-umbian\n",
            "warna: cokelat muda terang, jenis kentang: Russet\n",
            "hallo... aku adalah kentang yang sehat... \n",
            "hallo... aku adalah kentang yang sehat... \n"
          ]
        }
      ]
    }
  ]
}